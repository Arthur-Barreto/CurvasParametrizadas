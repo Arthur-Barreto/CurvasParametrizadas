{
 "cells": [
  {
   "cell_type": "markdown",
   "id": "0e37d724",
   "metadata": {},
   "source": [
    "# Projeto Curvas Parametrizadas\n",
    "## Turma: Engenharia da Computação 3º semestre\n",
    "## Disciplina: Matemática Multivariada \n",
    "## Professora: Angélica\n",
    "## Alunos: Antonio Amaral, Arthur Barreto e Enricco Gemnha\n",
    "   "
   ]
  },
  {
   "cell_type": "markdown",
   "id": "2bae9084",
   "metadata": {},
   "source": [
    "<img src = \"img/curva16.png\">"
   ]
  },
  {
   "cell_type": "markdown",
   "id": "caeb17b9",
   "metadata": {},
   "source": [
    "Bibliotecas importadas "
   ]
  },
  {
   "cell_type": "code",
   "execution_count": 1,
   "id": "ce3465fb",
   "metadata": {},
   "outputs": [],
   "source": [
    "import numpy as np\n",
    "import math\n",
    "import matplotlib.pyplot as plt"
   ]
  },
  {
   "cell_type": "markdown",
   "id": "c00fb902",
   "metadata": {},
   "source": [
    "* ## <b> Pontos notáveis </b>\n",
    "    "
   ]
  },
  {
   "cell_type": "markdown",
   "id": "988b810a",
   "metadata": {},
   "source": [
    "* ### Pontos de autointerseção "
   ]
  },
  {
   "cell_type": "code",
   "execution_count": null,
   "id": "c2102455",
   "metadata": {},
   "outputs": [],
   "source": [
    "# Formula de Heron\n",
    "def heron(a, b, c):\n",
    "    p = a + b + c\n",
    "    A = (p*(p-a)*(p-b)*(p-c))**0.5\n",
    "    return A\n",
    "\n",
    "lista_pontos = [(-1.81435,-10.29055),(-8.01095, -6.7124596),(-10.44902, 0),(-8.00398, 6.71802),(-1.81526, 10.29057),(5.22014, 9.050319),(9.818703, 3.580709),(9.819595, -3.563178),(5.248521, -9.043749)]\n",
    "w\n"
   ]
  }
 ],
 "metadata": {
  "interpreter": {
   "hash": "31f2aee4e71d21fbe5cf8b01ff0e069b9275f58929596ceb00d14d90e3e16cd6"
  },
  "kernelspec": {
   "display_name": "Python 3.8.9 64-bit",
   "language": "python",
   "name": "python3"
  },
  "language_info": {
   "codemirror_mode": {
    "name": "ipython",
    "version": 3
   },
   "file_extension": ".py",
   "mimetype": "text/x-python",
   "name": "python",
   "nbconvert_exporter": "python",
   "pygments_lexer": "ipython3",
   "version": "3.8.9"
  }
 },
 "nbformat": 4,
 "nbformat_minor": 5
}
