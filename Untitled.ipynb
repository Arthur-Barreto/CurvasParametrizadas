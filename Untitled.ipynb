{
 "cells": [
  {
   "cell_type": "markdown",
   "id": "0e37d724",
   "metadata": {},
   "source": [
    "# Projeto Curvas Parametrizadas\n",
    "## Turma: Engenharia da Computação 3º semestre\n",
    "## Disciplina: Matemática Multivariada \n",
    "## Professora: Angélica\n",
    "## Alunos: Antonio Amaral, Arthur Barreto e Enricco Gemha\n",
    "   "
   ]
  },
  {
   "cell_type": "markdown",
   "id": "2bae9084",
   "metadata": {},
   "source": [
    "<img src = \"img/curva16.png\">"
   ]
  },
  {
   "cell_type": "markdown",
   "id": "caeb17b9",
   "metadata": {},
   "source": [
    "Bibliotecas importadas "
   ]
  },
  {
   "cell_type": "code",
   "execution_count": null,
   "id": "ce3465fb",
   "metadata": {},
   "outputs": [
    {
     "ename": "",
     "evalue": "",
     "output_type": "error",
     "traceback": [
      "\u001b[1;31mFailed to start the Kernel. \n",
      "Kernel Python 3.9.12 64-bit is not usable. Check the Jupyter output tab for more information. \n",
      "View Jupyter <a href='command:jupyter.viewOutput'>log</a> for further details."
     ]
    }
   ],
   "source": [
    "import numpy as np\n",
    "import math\n",
    "import matplotlib.pyplot as plt"
   ]
  },
  {
   "cell_type": "markdown",
   "id": "c00fb902",
   "metadata": {},
   "source": [
    "* ## <b> Pontos notáveis </b>\n",
    "    "
   ]
  },
  {
   "cell_type": "markdown",
   "id": "988b810a",
   "metadata": {},
   "source": [
    "* ### Pontos de autointerseção "
   ]
  },
  {
   "cell_type": "code",
   "execution_count": null,
   "id": "c2102455",
   "metadata": {},
   "outputs": [
    {
     "ename": "",
     "evalue": "",
     "output_type": "error",
     "traceback": [
      "\u001b[1;31mFailed to start the Kernel. \n",
      "Traceback (most recent call last):\n",
      "  File \"/Users/enriccogemha/.vscode/extensions/ms-toolsai.jupyter-2022.4.1021342353/pythonFiles/vscode_datascience_helpers/daemon/daemon_python.py\", line 54, in _decorator\n",
      "    return func(self, *args, **kwargs)\n",
      "  File \"/Users/enriccogemha/.vscode/extensions/ms-toolsai.jupyter-2022.4.1021342353/pythonFiles/vscode_datascience_helpers/jupyter_daemon.py\", line 111, in m_exec_module_observable\n",
      "    self._start_notebook(args, cwd, env)\n",
      "  File \"/Users/enriccogemha/.vscode/extensions/ms-toolsai.jupyter-2022.4.1021342353/pythonFiles/vscode_datascience_helpers/jupyter_daemon.py\", line 168, in _start_notebook\n",
      "    app.launch_new_instance()\n",
      "  File \"/opt/anaconda3/lib/python3.8/site-packages/jupyter_core/application.py\", line 254, in launch_instance\n",
      "    return super(JupyterApp, cls).launch_instance(argv=argv, **kwargs)\n",
      "  File \"/opt/anaconda3/lib/python3.8/site-packages/traitlets/config/application.py\", line 844, in launch_instance\n",
      "    app.initialize(argv)\n",
      "  File \"/opt/anaconda3/lib/python3.8/site-packages/traitlets/config/application.py\", line 87, in inner\n",
      "    return method(app, *args, **kwargs)\n",
      "  File \"/opt/anaconda3/lib/python3.8/site-packages/notebook/notebookapp.py\", line 2130, in initialize\n",
      "    self.init_webapp()\n",
      "  File \"/opt/anaconda3/lib/python3.8/site-packages/notebook/notebookapp.py\", line 1795, in init_webapp\n",
      "    success = self._bind_http_server()\n",
      "  File \"/opt/anaconda3/lib/python3.8/site-packages/notebook/notebookapp.py\", line 1802, in _bind_http_server\n",
      "    return self._bind_http_server_unix() if self.sock else self._bind_http_server_tcp()\n",
      "  File \"/opt/anaconda3/lib/python3.8/site-packages/notebook/notebookapp.py\", line 1828, in _bind_http_server_tcp\n",
      "    self.http_server.listen(port, self.ip)\n",
      "  File \"/opt/anaconda3/lib/python3.8/site-packages/tornado/tcpserver.py\", line 151, in listen\n",
      "    sockets = bind_sockets(port, address=address)\n",
      "  File \"/opt/anaconda3/lib/python3.8/site-packages/tornado/netutil.py\", line 161, in bind_sockets\n",
      "    sock.bind(sockaddr)\n",
      "OSError: [Errno 49] Can't assign requested address\n",
      "\n",
      "Failed to run jupyter as observable with args notebook --no-browser --notebook-dir=\"/Users/enriccogemha/Developer/CurvasParametrizadas\" --config=/var/folders/x3/bbk8nj6s67s9nv5gvt6q6gxh0000gn/T/487df440-5ec8-4912-8e69-d2c80262d42a/jupyter_notebook_config.py --NotebookApp.iopub_data_rate_limit=10000000000.0. \n",
      "View Jupyter <a href='command:jupyter.viewOutput'>log</a> for further details."
     ]
    },
    {
     "ename": "",
     "evalue": "",
     "output_type": "error",
     "traceback": [
      "\u001b[1;31mFailed to start the Kernel. \n",
      "Traceback (most recent call last):\n",
      "  File \"/Users/enriccogemha/.vscode/extensions/ms-toolsai.jupyter-2022.4.1021342353/pythonFiles/vscode_datascience_helpers/daemon/daemon_python.py\", line 54, in _decorator\n",
      "    return func(self, *args, **kwargs)\n",
      "  File \"/Users/enriccogemha/.vscode/extensions/ms-toolsai.jupyter-2022.4.1021342353/pythonFiles/vscode_datascience_helpers/jupyter_daemon.py\", line 111, in m_exec_module_observable\n",
      "    self._start_notebook(args, cwd, env)\n",
      "  File \"/Users/enriccogemha/.vscode/extensions/ms-toolsai.jupyter-2022.4.1021342353/pythonFiles/vscode_datascience_helpers/jupyter_daemon.py\", line 168, in _start_notebook\n",
      "    app.launch_new_instance()\n",
      "  File \"/opt/anaconda3/lib/python3.8/site-packages/jupyter_core/application.py\", line 254, in launch_instance\n",
      "    return super(JupyterApp, cls).launch_instance(argv=argv, **kwargs)\n",
      "  File \"/opt/anaconda3/lib/python3.8/site-packages/traitlets/config/application.py\", line 844, in launch_instance\n",
      "    app.initialize(argv)\n",
      "  File \"/opt/anaconda3/lib/python3.8/site-packages/traitlets/config/application.py\", line 87, in inner\n",
      "    return method(app, *args, **kwargs)\n",
      "  File \"/opt/anaconda3/lib/python3.8/site-packages/notebook/notebookapp.py\", line 2130, in initialize\n",
      "    self.init_webapp()\n",
      "  File \"/opt/anaconda3/lib/python3.8/site-packages/notebook/notebookapp.py\", line 1795, in init_webapp\n",
      "    success = self._bind_http_server()\n",
      "  File \"/opt/anaconda3/lib/python3.8/site-packages/notebook/notebookapp.py\", line 1802, in _bind_http_server\n",
      "    return self._bind_http_server_unix() if self.sock else self._bind_http_server_tcp()\n",
      "  File \"/opt/anaconda3/lib/python3.8/site-packages/notebook/notebookapp.py\", line 1828, in _bind_http_server_tcp\n",
      "    self.http_server.listen(port, self.ip)\n",
      "  File \"/opt/anaconda3/lib/python3.8/site-packages/tornado/tcpserver.py\", line 151, in listen\n",
      "    sockets = bind_sockets(port, address=address)\n",
      "  File \"/opt/anaconda3/lib/python3.8/site-packages/tornado/netutil.py\", line 161, in bind_sockets\n",
      "    sock.bind(sockaddr)\n",
      "OSError: [Errno 49] Can't assign requested address\n",
      "\n",
      "Failed to run jupyter as observable with args notebook --no-browser --notebook-dir=\"/Users/enriccogemha/Developer/CurvasParametrizadas\" --config=/var/folders/x3/bbk8nj6s67s9nv5gvt6q6gxh0000gn/T/373946d9-875b-42b4-876b-ce4c7f3240bf/jupyter_notebook_config.py --NotebookApp.iopub_data_rate_limit=10000000000.0. \n",
      "View Jupyter <a href='command:jupyter.viewOutput'>log</a> for further details."
     ]
    },
    {
     "ename": "",
     "evalue": "",
     "output_type": "error",
     "traceback": [
      "\u001b[1;31mFailed to start the Kernel. \n",
      "Traceback (most recent call last):\n",
      "  File \"/Users/enriccogemha/.vscode/extensions/ms-toolsai.jupyter-2022.4.1021342353/pythonFiles/vscode_datascience_helpers/daemon/daemon_python.py\", line 54, in _decorator\n",
      "    return func(self, *args, **kwargs)\n",
      "  File \"/Users/enriccogemha/.vscode/extensions/ms-toolsai.jupyter-2022.4.1021342353/pythonFiles/vscode_datascience_helpers/jupyter_daemon.py\", line 111, in m_exec_module_observable\n",
      "    self._start_notebook(args, cwd, env)\n",
      "  File \"/Users/enriccogemha/.vscode/extensions/ms-toolsai.jupyter-2022.4.1021342353/pythonFiles/vscode_datascience_helpers/jupyter_daemon.py\", line 168, in _start_notebook\n",
      "    app.launch_new_instance()\n",
      "  File \"/opt/anaconda3/lib/python3.8/site-packages/jupyter_core/application.py\", line 254, in launch_instance\n",
      "    return super(JupyterApp, cls).launch_instance(argv=argv, **kwargs)\n",
      "  File \"/opt/anaconda3/lib/python3.8/site-packages/traitlets/config/application.py\", line 844, in launch_instance\n",
      "    app.initialize(argv)\n",
      "  File \"/opt/anaconda3/lib/python3.8/site-packages/traitlets/config/application.py\", line 87, in inner\n",
      "    return method(app, *args, **kwargs)\n",
      "  File \"/opt/anaconda3/lib/python3.8/site-packages/notebook/notebookapp.py\", line 2130, in initialize\n",
      "    self.init_webapp()\n",
      "  File \"/opt/anaconda3/lib/python3.8/site-packages/notebook/notebookapp.py\", line 1795, in init_webapp\n",
      "    success = self._bind_http_server()\n",
      "  File \"/opt/anaconda3/lib/python3.8/site-packages/notebook/notebookapp.py\", line 1802, in _bind_http_server\n",
      "    return self._bind_http_server_unix() if self.sock else self._bind_http_server_tcp()\n",
      "  File \"/opt/anaconda3/lib/python3.8/site-packages/notebook/notebookapp.py\", line 1828, in _bind_http_server_tcp\n",
      "    self.http_server.listen(port, self.ip)\n",
      "  File \"/opt/anaconda3/lib/python3.8/site-packages/tornado/tcpserver.py\", line 151, in listen\n",
      "    sockets = bind_sockets(port, address=address)\n",
      "  File \"/opt/anaconda3/lib/python3.8/site-packages/tornado/netutil.py\", line 161, in bind_sockets\n",
      "    sock.bind(sockaddr)\n",
      "OSError: [Errno 49] Can't assign requested address\n",
      "\n",
      "Failed to run jupyter as observable with args notebook --no-browser --notebook-dir=\"/Users/enriccogemha/Developer/CurvasParametrizadas\" --config=/var/folders/x3/bbk8nj6s67s9nv5gvt6q6gxh0000gn/T/af5b81ec-5979-44c8-9468-ab7015d4be63/jupyter_notebook_config.py --NotebookApp.iopub_data_rate_limit=10000000000.0. \n",
      "View Jupyter <a href='command:jupyter.viewOutput'>log</a> for further details."
     ]
    },
    {
     "ename": "",
     "evalue": "",
     "output_type": "error",
     "traceback": [
      "\u001b[1;31mFailed to start the Kernel. \n",
      "Traceback (most recent call last):\n",
      "  File \"/Users/enriccogemha/.vscode/extensions/ms-toolsai.jupyter-2022.4.1021342353/pythonFiles/vscode_datascience_helpers/daemon/daemon_python.py\", line 54, in _decorator\n",
      "    return func(self, *args, **kwargs)\n",
      "  File \"/Users/enriccogemha/.vscode/extensions/ms-toolsai.jupyter-2022.4.1021342353/pythonFiles/vscode_datascience_helpers/jupyter_daemon.py\", line 111, in m_exec_module_observable\n",
      "    self._start_notebook(args, cwd, env)\n",
      "  File \"/Users/enriccogemha/.vscode/extensions/ms-toolsai.jupyter-2022.4.1021342353/pythonFiles/vscode_datascience_helpers/jupyter_daemon.py\", line 168, in _start_notebook\n",
      "    app.launch_new_instance()\n",
      "  File \"/opt/anaconda3/lib/python3.8/site-packages/jupyter_core/application.py\", line 254, in launch_instance\n",
      "    return super(JupyterApp, cls).launch_instance(argv=argv, **kwargs)\n",
      "  File \"/opt/anaconda3/lib/python3.8/site-packages/traitlets/config/application.py\", line 844, in launch_instance\n",
      "    app.initialize(argv)\n",
      "  File \"/opt/anaconda3/lib/python3.8/site-packages/traitlets/config/application.py\", line 87, in inner\n",
      "    return method(app, *args, **kwargs)\n",
      "  File \"/opt/anaconda3/lib/python3.8/site-packages/notebook/notebookapp.py\", line 2130, in initialize\n",
      "    self.init_webapp()\n",
      "  File \"/opt/anaconda3/lib/python3.8/site-packages/notebook/notebookapp.py\", line 1795, in init_webapp\n",
      "    success = self._bind_http_server()\n",
      "  File \"/opt/anaconda3/lib/python3.8/site-packages/notebook/notebookapp.py\", line 1802, in _bind_http_server\n",
      "    return self._bind_http_server_unix() if self.sock else self._bind_http_server_tcp()\n",
      "  File \"/opt/anaconda3/lib/python3.8/site-packages/notebook/notebookapp.py\", line 1828, in _bind_http_server_tcp\n",
      "    self.http_server.listen(port, self.ip)\n",
      "  File \"/opt/anaconda3/lib/python3.8/site-packages/tornado/tcpserver.py\", line 151, in listen\n",
      "    sockets = bind_sockets(port, address=address)\n",
      "  File \"/opt/anaconda3/lib/python3.8/site-packages/tornado/netutil.py\", line 161, in bind_sockets\n",
      "    sock.bind(sockaddr)\n",
      "OSError: [Errno 49] Can't assign requested address\n",
      "\n",
      "/opt/anaconda3/lib/python3.8/site-packages/traitlets/traitlets.py:2196: FutureWarning: Supporting extra quotes around Unicode is deprecated in traitlets 5.0. Use '/Users/enriccogemha/Developer/CurvasParametrizadas' instead of '\"/Users/enriccogemha/Developer/CurvasParametrizadas\"' – or use CUnicode.\n",
      "  warn(\n",
      "\n",
      "Failed to run jupyter as observable with args notebook --no-browser --notebook-dir=\"/Users/enriccogemha/Developer/CurvasParametrizadas\" --config=/var/folders/x3/bbk8nj6s67s9nv5gvt6q6gxh0000gn/T/fc4c0ba0-650f-4f92-ae80-42164f10dbf1/jupyter_notebook_config.py --NotebookApp.iopub_data_rate_limit=10000000000.0. \n",
      "View Jupyter <a href='command:jupyter.viewOutput'>log</a> for further details."
     ]
    },
    {
     "ename": "",
     "evalue": "",
     "output_type": "error",
     "traceback": [
      "\u001b[1;31mFailed to start the Kernel. \n",
      "Traceback (most recent call last):\n",
      "  File \"/Users/enriccogemha/.vscode/extensions/ms-toolsai.jupyter-2022.4.1021342353/pythonFiles/vscode_datascience_helpers/daemon/daemon_python.py\", line 54, in _decorator\n",
      "    return func(self, *args, **kwargs)\n",
      "  File \"/Users/enriccogemha/.vscode/extensions/ms-toolsai.jupyter-2022.4.1021342353/pythonFiles/vscode_datascience_helpers/jupyter_daemon.py\", line 111, in m_exec_module_observable\n",
      "    self._start_notebook(args, cwd, env)\n",
      "  File \"/Users/enriccogemha/.vscode/extensions/ms-toolsai.jupyter-2022.4.1021342353/pythonFiles/vscode_datascience_helpers/jupyter_daemon.py\", line 168, in _start_notebook\n",
      "    app.launch_new_instance()\n",
      "  File \"/opt/anaconda3/lib/python3.8/site-packages/jupyter_core/application.py\", line 254, in launch_instance\n",
      "    return super(JupyterApp, cls).launch_instance(argv=argv, **kwargs)\n",
      "  File \"/opt/anaconda3/lib/python3.8/site-packages/traitlets/config/application.py\", line 844, in launch_instance\n",
      "    app.initialize(argv)\n",
      "  File \"/opt/anaconda3/lib/python3.8/site-packages/traitlets/config/application.py\", line 87, in inner\n",
      "    return method(app, *args, **kwargs)\n",
      "  File \"/opt/anaconda3/lib/python3.8/site-packages/notebook/notebookapp.py\", line 2130, in initialize\n",
      "    self.init_webapp()\n",
      "  File \"/opt/anaconda3/lib/python3.8/site-packages/notebook/notebookapp.py\", line 1795, in init_webapp\n",
      "    success = self._bind_http_server()\n",
      "  File \"/opt/anaconda3/lib/python3.8/site-packages/notebook/notebookapp.py\", line 1802, in _bind_http_server\n",
      "    return self._bind_http_server_unix() if self.sock else self._bind_http_server_tcp()\n",
      "  File \"/opt/anaconda3/lib/python3.8/site-packages/notebook/notebookapp.py\", line 1828, in _bind_http_server_tcp\n",
      "    self.http_server.listen(port, self.ip)\n",
      "  File \"/opt/anaconda3/lib/python3.8/site-packages/tornado/tcpserver.py\", line 151, in listen\n",
      "    sockets = bind_sockets(port, address=address)\n",
      "  File \"/opt/anaconda3/lib/python3.8/site-packages/tornado/netutil.py\", line 161, in bind_sockets\n",
      "    sock.bind(sockaddr)\n",
      "OSError: [Errno 49] Can't assign requested address\n",
      "\n",
      "Failed to run jupyter as observable with args notebook --no-browser --notebook-dir=\"/Users/enriccogemha/Developer/CurvasParametrizadas\" --config=/var/folders/x3/bbk8nj6s67s9nv5gvt6q6gxh0000gn/T/11e2abb1-56ad-4425-b183-341f4ffd901f/jupyter_notebook_config.py --NotebookApp.iopub_data_rate_limit=10000000000.0. \n",
      "View Jupyter <a href='command:jupyter.viewOutput'>log</a> for further details."
     ]
    },
    {
     "ename": "",
     "evalue": "",
     "output_type": "error",
     "traceback": [
      "\u001b[1;31mFailed to start the Kernel. \n",
      "Traceback (most recent call last):\n",
      "  File \"/Users/enriccogemha/.vscode/extensions/ms-toolsai.jupyter-2022.4.1021342353/pythonFiles/vscode_datascience_helpers/daemon/daemon_python.py\", line 54, in _decorator\n",
      "    return func(self, *args, **kwargs)\n",
      "  File \"/Users/enriccogemha/.vscode/extensions/ms-toolsai.jupyter-2022.4.1021342353/pythonFiles/vscode_datascience_helpers/jupyter_daemon.py\", line 111, in m_exec_module_observable\n",
      "    self._start_notebook(args, cwd, env)\n",
      "  File \"/Users/enriccogemha/.vscode/extensions/ms-toolsai.jupyter-2022.4.1021342353/pythonFiles/vscode_datascience_helpers/jupyter_daemon.py\", line 168, in _start_notebook\n",
      "    app.launch_new_instance()\n",
      "  File \"/opt/anaconda3/lib/python3.8/site-packages/jupyter_core/application.py\", line 254, in launch_instance\n",
      "    return super(JupyterApp, cls).launch_instance(argv=argv, **kwargs)\n",
      "  File \"/opt/anaconda3/lib/python3.8/site-packages/traitlets/config/application.py\", line 844, in launch_instance\n",
      "    app.initialize(argv)\n",
      "  File \"/opt/anaconda3/lib/python3.8/site-packages/traitlets/config/application.py\", line 87, in inner\n",
      "    return method(app, *args, **kwargs)\n",
      "  File \"/opt/anaconda3/lib/python3.8/site-packages/notebook/notebookapp.py\", line 2130, in initialize\n",
      "    self.init_webapp()\n",
      "  File \"/opt/anaconda3/lib/python3.8/site-packages/notebook/notebookapp.py\", line 1795, in init_webapp\n",
      "    success = self._bind_http_server()\n",
      "  File \"/opt/anaconda3/lib/python3.8/site-packages/notebook/notebookapp.py\", line 1802, in _bind_http_server\n",
      "    return self._bind_http_server_unix() if self.sock else self._bind_http_server_tcp()\n",
      "  File \"/opt/anaconda3/lib/python3.8/site-packages/notebook/notebookapp.py\", line 1828, in _bind_http_server_tcp\n",
      "    self.http_server.listen(port, self.ip)\n",
      "  File \"/opt/anaconda3/lib/python3.8/site-packages/tornado/tcpserver.py\", line 151, in listen\n",
      "    sockets = bind_sockets(port, address=address)\n",
      "  File \"/opt/anaconda3/lib/python3.8/site-packages/tornado/netutil.py\", line 161, in bind_sockets\n",
      "    sock.bind(sockaddr)\n",
      "OSError: [Errno 49] Can't assign requested address\n",
      "\n",
      "Failed to run jupyter as observable with args notebook --no-browser --notebook-dir=\"/Users/enriccogemha/Developer/CurvasParametrizadas\" --config=/var/folders/x3/bbk8nj6s67s9nv5gvt6q6gxh0000gn/T/71849a25-f6a6-4ac4-910f-af9cfa11184c/jupyter_notebook_config.py --NotebookApp.iopub_data_rate_limit=10000000000.0. \n",
      "View Jupyter <a href='command:jupyter.viewOutput'>log</a> for further details."
     ]
    },
    {
     "ename": "",
     "evalue": "",
     "output_type": "error",
     "traceback": [
      "\u001b[1;31mFailed to start the Kernel. \n",
      "Kernel Python 3.9.12 64-bit is not usable. Check the Jupyter output tab for more information. \n",
      "View Jupyter <a href='command:jupyter.viewOutput'>log</a> for further details."
     ]
    }
   ],
   "source": [
    "def x(t):\n",
    "    return 8*math.cos(t) - 3*math.cos(11*t/2)\n",
    "\n",
    "def y(t):\n",
    "    return 8*math.sin(t) - 3*math.sin(11*t/2)\n",
    "\n",
    "def heron(a, b, c):\n",
    "    p = a + b + c\n",
    "    A = (p*(p-a)*(p-b)*(p-c))**0.5\n",
    "    return A\n",
    "\n",
    "ptos = []\n",
    "intervalo = np.arange(0, 12.57, (12.57)/1000)\n",
    "for t in intervalo:\n",
    "    ptos.append([x(t), y(t)])\n",
    "ptos_autoint_ext = [(-1.81435,-10.29055),(-8.01095, -6.7124596),(-10.44902, 0),(-8.00398, 6.71802),(-1.81526, 10.29057),(5.22014, 9.050319),(9.818703, 3.580709),(9.819595, -3.563178),(5.248521, -9.043749)]\n",
    "area = 0\n",
    "i = 1\n",
    "while i < len(ptos):\n",
    "    area += heron(ptos[i], ptos[i-1])\n",
    "    i += 1\n",
    "\n",
    "area"
   ]
  }
 ],
 "metadata": {
  "interpreter": {
   "hash": "b0fa6594d8f4cbf19f97940f81e996739fb7646882a419484c72d19e05852a7e"
  },
  "kernelspec": {
   "display_name": "Python 3.9.12 64-bit",
   "language": "python",
   "name": "python3"
  },
  "language_info": {
   "codemirror_mode": {
    "name": "ipython",
    "version": 3
   },
   "file_extension": ".py",
   "mimetype": "text/x-python",
   "name": "python",
   "nbconvert_exporter": "python",
   "pygments_lexer": "ipython3",
   "version": "3.9.12"
  }
 },
 "nbformat": 4,
 "nbformat_minor": 5
}
