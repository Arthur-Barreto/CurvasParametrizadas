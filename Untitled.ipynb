{
 "cells": [
  {
   "cell_type": "markdown",
   "id": "0e37d724",
   "metadata": {},
   "source": [
    "# Curvas parametrizadas"
   ]
  },
  {
   "cell_type": "markdown",
   "id": "2bae9084",
   "metadata": {},
   "source": [
    "<img src = \"img/curva16.png\">"
   ]
  },
  {
   "cell_type": "code",
   "execution_count": null,
   "id": "26a65263",
   "metadata": {},
   "outputs": [],
   "source": [
    "Vamos utilizar a biblioteca scipy, se não tiver ela instalado, basta descomentar a linha de baixo e rodar"
   ]
  },
  {
   "cell_type": "code",
   "execution_count": 1,
   "id": "a3dd7890",
   "metadata": {},
   "outputs": [],
   "source": [
    "# pip install scipy"
   ]
  }
 ],
 "metadata": {
  "kernelspec": {
   "display_name": "Python 3",
   "language": "python",
   "name": "python3"
  },
  "language_info": {
   "codemirror_mode": {
    "name": "ipython",
    "version": 3
   },
   "file_extension": ".py",
   "mimetype": "text/x-python",
   "name": "python",
   "nbconvert_exporter": "python",
   "pygments_lexer": "ipython3",
   "version": "3.8.8"
  }
 },
 "nbformat": 4,
 "nbformat_minor": 5
}
