{
 "cells": [
  {
   "cell_type": "markdown",
   "id": "0e37d724",
   "metadata": {},
   "source": [
    "# Projeto Curvas Parametrizadas\n",
    "## Turma: Engenharia da Computação 3º semestre\n",
    "## Disciplina: Matemática Multivariada \n",
    "## Professora: Angélica\n",
    "## Alunos: Antonio Amaral, Arthur Barreto e Enricco Gemha\n",
    "   "
   ]
  },
  {
   "cell_type": "markdown",
   "id": "2bae9084",
   "metadata": {},
   "source": [
    "<img src = \"img/curva16.png\">"
   ]
  },
  {
   "cell_type": "markdown",
   "id": "caeb17b9",
   "metadata": {},
   "source": [
    "Bibliotecas importadas "
   ]
  },
  {
   "cell_type": "code",
   "execution_count": 1,
   "id": "ce3465fb",
   "metadata": {},
   "outputs": [],
   "source": [
    "import numpy as np\n",
    "import math\n",
    "import matplotlib.pyplot as plt"
   ]
  },
  {
   "cell_type": "markdown",
   "id": "c00fb902",
   "metadata": {},
   "source": [
    "* ## <b> Pontos notáveis </b>\n",
    "    "
   ]
  },
  {
   "cell_type": "markdown",
   "id": "988b810a",
   "metadata": {},
   "source": [
    "* ### Pontos de autointerseção "
   ]
  },
  {
   "cell_type": "code",
   "execution_count": 2,
   "id": "c2102455",
   "metadata": {},
   "outputs": [
    {
     "name": "stdout",
     "output_type": "stream",
     "text": [
      "Area total: 367.781505762371\n"
     ]
    }
   ],
   "source": [
    "def x(t): # parte da funcao de duas variaveis gama(t) que representa o eixo x\n",
    "    return 8*math.cos(t) - 3*math.cos(11*t/2)\n",
    "\n",
    "def y(t): # parte da funcao de duas variaveis gama(t) que representa o eixo y\n",
    "    return 8*math.sin(t) - 3*math.sin(11*t/2)\n",
    "\n",
    "def heron(pt1, pt2): # calcula o valor da area do triangulo formado por dois pontos, utilizando a formula de Heron\n",
    "    origem = (0,0)\n",
    "    a, b, c = math.dist(pt1, origem), math.dist(pt2, origem), math.dist(pt1, pt2)\n",
    "    p = (a + b + c)/2\n",
    "    area = (p*(p-a)*(p-b)*(p-c))**0.5\n",
    "    return area\n",
    "\n",
    "intervalos = []; delta = 0.000001 # inicializa lista de intervalos e define o a taxa de variação dos ranges \n",
    "\n",
    "# preencher a lista de intervalos com os intervalos que representam a \"casca\" da curva gama(t)\n",
    "intervalos.append(np.arange(7.52,7.839,delta))\n",
    "intervalos.append(np.arange(8.916,9.235,delta))\n",
    "intervalos.append(np.arange(10.313,10.631,delta))\n",
    "intervalos.append(np.arange(11.709,12.028,delta))\n",
    "intervalos.append(np.arange(0.539,0.857,delta))\n",
    "intervalos.append(np.arange(1.935,2.254,delta))\n",
    "intervalos.append(np.arange(3.331,3.65,delta))\n",
    "intervalos.append(np.arange(4.727,5.046,delta))\n",
    "intervalos.append(np.arange(6.124,6.442,delta))\n",
    "\n",
    "area = 0 # inicializa a area total da curva gama(t)\n",
    "for intervalo in intervalos: # para cada intervalo da lista de intervalos\n",
    "    for i in range(1,len(intervalo)): # para cada index do array de pontos do intervalo\n",
    "        t = intervalo[i] # define o valor de t\n",
    "        t_ant = intervalo[i-1] # define o valor do antecessor de t\n",
    "        ponto_t = [x(t),y(t)] # define o ponto de t\n",
    "        ponto_t_ant = [x(t_ant),y(t_ant)] # define o ponto do antecessor de t\n",
    "        area += heron(ponto_t, ponto_t_ant) # adiciona a area do triangulo, utilizando a Formula de Heron\n",
    "\n",
    "print(f'Area total: {area}') # printa a area total da curva gama(t)"
   ]
  },
  {
   "cell_type": "code",
   "execution_count": 3,
   "id": "ed374ef3",
   "metadata": {},
   "outputs": [
    {
     "name": "stdout",
     "output_type": "stream",
     "text": [
      "Comprimento total: 219.71026784402346\n"
     ]
    }
   ],
   "source": [
    "def x(t): # parte da funcao de duas variaveis gama(t) que representa o eixo x\n",
    "    return 8*math.cos(t) - 3*math.cos(11*t/2)\n",
    "\n",
    "def y(t): # parte da funcao de duas variaveis gama(t) que representa o eixo y\n",
    "    return 8*math.sin(t) - 3*math.sin(11*t/2)\n",
    "\n",
    "def distancia_euclidiana(ponto1, ponto2): # calcula a distancia euclidiana entre dois pontos\n",
    "    return ((ponto1[0] - ponto2[0])**2 + (ponto1[1] - ponto2[1])**2)**0.5 # formula de distancia euclidiana\n",
    "\n",
    "parametros_t = np.arange(0, 4*math.pi, 4*math.pi/10000) # inicializa um array de parametros t\n",
    "\n",
    "pontos_curva = [] # inicializa uma lista de pontos da curva gama(t)\n",
    "\n",
    "for i in parametros_t: # para cada parametro t\n",
    "    ponto = (x(i),y(i)) # define o ponto de t na curva\n",
    "    pontos_curva.append(ponto) # adiciona o ponto na lista de pontos\n",
    "    \n",
    "comprimento = 0 # inicializa o comprimento da curva\n",
    "c = 1 # inicializa o contador\n",
    "while c < len(pontos_curva): # para cada ponto da lista de pontos\n",
    "    # calcula a distancia euclidiana entre o ponto atual e o anterior\n",
    "    d = distancia_euclidiana(pontos_curva[c],pontos_curva[c-1]) \n",
    "    comprimento += d # adiciona esta distancia euclidiana ao comprimento\n",
    "    c += 1 # incrementa o contador  \n",
    "\n",
    "print(f'Comprimento total: {comprimento}') # printa o comprimento total da curva gama(t)"
   ]
  }
 ],
 "metadata": {
  "interpreter": {
   "hash": "b0fa6594d8f4cbf19f97940f81e996739fb7646882a419484c72d19e05852a7e"
  },
  "kernelspec": {
   "display_name": "Python 3.9.12 64-bit",
   "language": "python",
   "name": "python3"
  },
  "language_info": {
   "codemirror_mode": {
    "name": "ipython",
    "version": 3
   },
   "file_extension": ".py",
   "mimetype": "text/x-python",
   "name": "python",
   "nbconvert_exporter": "python",
   "pygments_lexer": "ipython3",
   "version": "3.9.12"
  }
 },
 "nbformat": 4,
 "nbformat_minor": 5
}
